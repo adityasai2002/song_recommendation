{
  "cells": [
    {
      "cell_type": "markdown",
      "metadata": {
        "id": "view-in-github",
        "colab_type": "text"
      },
      "source": [
        "<a href=\"https://colab.research.google.com/github/adityasai2002/song_recommendation/blob/main/Song_Recommendation_System.ipynb\" target=\"_parent\"><img src=\"https://colab.research.google.com/assets/colab-badge.svg\" alt=\"Open In Colab\"/></a>"
      ]
    },
    {
      "cell_type": "code",
      "execution_count": null,
      "metadata": {
        "colab": {
          "base_uri": "https://localhost:8080/",
          "height": 17
        },
        "id": "EfecopdgEZjZ",
        "outputId": "a6fb2a4c-7569-4d13-d091-8d5e60d34dc4"
      },
      "outputs": [
        {
          "output_type": "display_data",
          "data": {
            "text/html": [
              "        <script type=\"text/javascript\">\n",
              "        window.PlotlyConfig = {MathJaxConfig: 'local'};\n",
              "        if (window.MathJax) {MathJax.Hub.Config({SVG: {font: \"STIX-Web\"}});}\n",
              "        if (typeof require !== 'undefined') {\n",
              "        require.undef(\"plotly\");\n",
              "        requirejs.config({\n",
              "            paths: {\n",
              "                'plotly': ['https://cdn.plot.ly/plotly-2.8.3.min']\n",
              "            }\n",
              "        });\n",
              "        require(['plotly'], function(Plotly) {\n",
              "            window._Plotly = Plotly;\n",
              "        });\n",
              "        }\n",
              "        </script>\n",
              "        "
            ]
          },
          "metadata": {}
        }
      ],
      "source": [
        "import pandas as pd\n",
        "import numpy as np\n",
        "import seaborn as sns\n",
        "import plotly.express as px\n",
        "import plotly.graph_objects as go\n",
        "import matplotlib.pyplot as plt\n",
        "import plotly\n",
        "from sklearn.preprocessing import StandardScaler\n",
        "from scipy.spatial import distance\n",
        "import copy\n",
        "import warnings\n",
        "warnings.filterwarnings(\"ignore\")\n",
        "plotly.offline.init_notebook_mode (connected = True)"
      ]
    },
    {
      "cell_type": "code",
      "execution_count": null,
      "metadata": {
        "id": "wr7iskKtEZng"
      },
      "outputs": [],
      "source": [
        "data=pd.read_csv('songs_v1.csv')"
      ]
    },
    {
      "cell_type": "code",
      "execution_count": null,
      "metadata": {
        "colab": {
          "base_uri": "https://localhost:8080/",
          "height": 438
        },
        "id": "8aBeBOvmEZsn",
        "outputId": "0ecae55a-568d-4161-8d27-4573070b15ec"
      },
      "outputs": [
        {
          "output_type": "execute_result",
          "data": {
            "text/plain": [
              "   danceability  energy  key  loudness  mode  speechiness  acousticness  \\\n",
              "0         0.831   0.814    2    -7.364     1       0.4200        0.0598   \n",
              "1         0.719   0.493    8    -7.230     1       0.0794        0.4010   \n",
              "2         0.850   0.893    5    -4.783     1       0.0623        0.0138   \n",
              "3         0.476   0.781    0    -4.710     1       0.1030        0.0237   \n",
              "4         0.798   0.624    2    -7.668     1       0.2930        0.2170   \n",
              "\n",
              "   instrumentalness  liveness  valence  ...                      id  \\\n",
              "0          0.013400    0.0556   0.3890  ...  2Vc6NJ9PW9gD9q343XFRKx   \n",
              "1          0.000000    0.1180   0.1240  ...  7pgJBLVz5VmnL7uGHmRj6p   \n",
              "2          0.000004    0.3720   0.0391  ...  0vSWgAlfpye0WCGeNmuNhy   \n",
              "3          0.000000    0.1140   0.1750  ...  0VSXnJqQkwuH2ei1nOQ1nu   \n",
              "4          0.000000    0.1660   0.5910  ...  4jCeguq9rMTlbMmPHuO7S3   \n",
              "\n",
              "                                    uri  \\\n",
              "0  spotify:track:2Vc6NJ9PW9gD9q343XFRKx   \n",
              "1  spotify:track:7pgJBLVz5VmnL7uGHmRj6p   \n",
              "2  spotify:track:0vSWgAlfpye0WCGeNmuNhy   \n",
              "3  spotify:track:0VSXnJqQkwuH2ei1nOQ1nu   \n",
              "4  spotify:track:4jCeguq9rMTlbMmPHuO7S3   \n",
              "\n",
              "                                          track_href  \\\n",
              "0  https://api.spotify.com/v1/tracks/2Vc6NJ9PW9gD...   \n",
              "1  https://api.spotify.com/v1/tracks/7pgJBLVz5Vmn...   \n",
              "2  https://api.spotify.com/v1/tracks/0vSWgAlfpye0...   \n",
              "3  https://api.spotify.com/v1/tracks/0VSXnJqQkwuH...   \n",
              "4  https://api.spotify.com/v1/tracks/4jCeguq9rMTl...   \n",
              "\n",
              "                                        analysis_url duration_ms  \\\n",
              "0  https://api.spotify.com/v1/audio-analysis/2Vc6...      124539   \n",
              "1  https://api.spotify.com/v1/audio-analysis/7pgJ...      224427   \n",
              "2  https://api.spotify.com/v1/audio-analysis/0vSW...       98821   \n",
              "3  https://api.spotify.com/v1/audio-analysis/0VSX...      123661   \n",
              "4  https://api.spotify.com/v1/audio-analysis/4jCe...      123298   \n",
              "\n",
              "  time_signature      genre                                      song_name  \\\n",
              "0              4  Dark Trap                            Mercury: Retrograde   \n",
              "1              4  Dark Trap                                      Pathology   \n",
              "2              4  Dark Trap                                       Symbiote   \n",
              "3              3  Dark Trap  ProductOfDrugs (Prod. The Virus and Antidote)   \n",
              "4              4  Dark Trap                                          Venom   \n",
              "\n",
              "  Unnamed: 0 title  \n",
              "0        NaN   NaN  \n",
              "1        NaN   NaN  \n",
              "2        NaN   NaN  \n",
              "3        NaN   NaN  \n",
              "4        NaN   NaN  \n",
              "\n",
              "[5 rows x 22 columns]"
            ],
            "text/html": [
              "\n",
              "  <div id=\"df-4a4841fa-c267-477f-9443-9587e4e91f22\">\n",
              "    <div class=\"colab-df-container\">\n",
              "      <div>\n",
              "<style scoped>\n",
              "    .dataframe tbody tr th:only-of-type {\n",
              "        vertical-align: middle;\n",
              "    }\n",
              "\n",
              "    .dataframe tbody tr th {\n",
              "        vertical-align: top;\n",
              "    }\n",
              "\n",
              "    .dataframe thead th {\n",
              "        text-align: right;\n",
              "    }\n",
              "</style>\n",
              "<table border=\"1\" class=\"dataframe\">\n",
              "  <thead>\n",
              "    <tr style=\"text-align: right;\">\n",
              "      <th></th>\n",
              "      <th>danceability</th>\n",
              "      <th>energy</th>\n",
              "      <th>key</th>\n",
              "      <th>loudness</th>\n",
              "      <th>mode</th>\n",
              "      <th>speechiness</th>\n",
              "      <th>acousticness</th>\n",
              "      <th>instrumentalness</th>\n",
              "      <th>liveness</th>\n",
              "      <th>valence</th>\n",
              "      <th>...</th>\n",
              "      <th>id</th>\n",
              "      <th>uri</th>\n",
              "      <th>track_href</th>\n",
              "      <th>analysis_url</th>\n",
              "      <th>duration_ms</th>\n",
              "      <th>time_signature</th>\n",
              "      <th>genre</th>\n",
              "      <th>song_name</th>\n",
              "      <th>Unnamed: 0</th>\n",
              "      <th>title</th>\n",
              "    </tr>\n",
              "  </thead>\n",
              "  <tbody>\n",
              "    <tr>\n",
              "      <th>0</th>\n",
              "      <td>0.831</td>\n",
              "      <td>0.814</td>\n",
              "      <td>2</td>\n",
              "      <td>-7.364</td>\n",
              "      <td>1</td>\n",
              "      <td>0.4200</td>\n",
              "      <td>0.0598</td>\n",
              "      <td>0.013400</td>\n",
              "      <td>0.0556</td>\n",
              "      <td>0.3890</td>\n",
              "      <td>...</td>\n",
              "      <td>2Vc6NJ9PW9gD9q343XFRKx</td>\n",
              "      <td>spotify:track:2Vc6NJ9PW9gD9q343XFRKx</td>\n",
              "      <td>https://api.spotify.com/v1/tracks/2Vc6NJ9PW9gD...</td>\n",
              "      <td>https://api.spotify.com/v1/audio-analysis/2Vc6...</td>\n",
              "      <td>124539</td>\n",
              "      <td>4</td>\n",
              "      <td>Dark Trap</td>\n",
              "      <td>Mercury: Retrograde</td>\n",
              "      <td>NaN</td>\n",
              "      <td>NaN</td>\n",
              "    </tr>\n",
              "    <tr>\n",
              "      <th>1</th>\n",
              "      <td>0.719</td>\n",
              "      <td>0.493</td>\n",
              "      <td>8</td>\n",
              "      <td>-7.230</td>\n",
              "      <td>1</td>\n",
              "      <td>0.0794</td>\n",
              "      <td>0.4010</td>\n",
              "      <td>0.000000</td>\n",
              "      <td>0.1180</td>\n",
              "      <td>0.1240</td>\n",
              "      <td>...</td>\n",
              "      <td>7pgJBLVz5VmnL7uGHmRj6p</td>\n",
              "      <td>spotify:track:7pgJBLVz5VmnL7uGHmRj6p</td>\n",
              "      <td>https://api.spotify.com/v1/tracks/7pgJBLVz5Vmn...</td>\n",
              "      <td>https://api.spotify.com/v1/audio-analysis/7pgJ...</td>\n",
              "      <td>224427</td>\n",
              "      <td>4</td>\n",
              "      <td>Dark Trap</td>\n",
              "      <td>Pathology</td>\n",
              "      <td>NaN</td>\n",
              "      <td>NaN</td>\n",
              "    </tr>\n",
              "    <tr>\n",
              "      <th>2</th>\n",
              "      <td>0.850</td>\n",
              "      <td>0.893</td>\n",
              "      <td>5</td>\n",
              "      <td>-4.783</td>\n",
              "      <td>1</td>\n",
              "      <td>0.0623</td>\n",
              "      <td>0.0138</td>\n",
              "      <td>0.000004</td>\n",
              "      <td>0.3720</td>\n",
              "      <td>0.0391</td>\n",
              "      <td>...</td>\n",
              "      <td>0vSWgAlfpye0WCGeNmuNhy</td>\n",
              "      <td>spotify:track:0vSWgAlfpye0WCGeNmuNhy</td>\n",
              "      <td>https://api.spotify.com/v1/tracks/0vSWgAlfpye0...</td>\n",
              "      <td>https://api.spotify.com/v1/audio-analysis/0vSW...</td>\n",
              "      <td>98821</td>\n",
              "      <td>4</td>\n",
              "      <td>Dark Trap</td>\n",
              "      <td>Symbiote</td>\n",
              "      <td>NaN</td>\n",
              "      <td>NaN</td>\n",
              "    </tr>\n",
              "    <tr>\n",
              "      <th>3</th>\n",
              "      <td>0.476</td>\n",
              "      <td>0.781</td>\n",
              "      <td>0</td>\n",
              "      <td>-4.710</td>\n",
              "      <td>1</td>\n",
              "      <td>0.1030</td>\n",
              "      <td>0.0237</td>\n",
              "      <td>0.000000</td>\n",
              "      <td>0.1140</td>\n",
              "      <td>0.1750</td>\n",
              "      <td>...</td>\n",
              "      <td>0VSXnJqQkwuH2ei1nOQ1nu</td>\n",
              "      <td>spotify:track:0VSXnJqQkwuH2ei1nOQ1nu</td>\n",
              "      <td>https://api.spotify.com/v1/tracks/0VSXnJqQkwuH...</td>\n",
              "      <td>https://api.spotify.com/v1/audio-analysis/0VSX...</td>\n",
              "      <td>123661</td>\n",
              "      <td>3</td>\n",
              "      <td>Dark Trap</td>\n",
              "      <td>ProductOfDrugs (Prod. The Virus and Antidote)</td>\n",
              "      <td>NaN</td>\n",
              "      <td>NaN</td>\n",
              "    </tr>\n",
              "    <tr>\n",
              "      <th>4</th>\n",
              "      <td>0.798</td>\n",
              "      <td>0.624</td>\n",
              "      <td>2</td>\n",
              "      <td>-7.668</td>\n",
              "      <td>1</td>\n",
              "      <td>0.2930</td>\n",
              "      <td>0.2170</td>\n",
              "      <td>0.000000</td>\n",
              "      <td>0.1660</td>\n",
              "      <td>0.5910</td>\n",
              "      <td>...</td>\n",
              "      <td>4jCeguq9rMTlbMmPHuO7S3</td>\n",
              "      <td>spotify:track:4jCeguq9rMTlbMmPHuO7S3</td>\n",
              "      <td>https://api.spotify.com/v1/tracks/4jCeguq9rMTl...</td>\n",
              "      <td>https://api.spotify.com/v1/audio-analysis/4jCe...</td>\n",
              "      <td>123298</td>\n",
              "      <td>4</td>\n",
              "      <td>Dark Trap</td>\n",
              "      <td>Venom</td>\n",
              "      <td>NaN</td>\n",
              "      <td>NaN</td>\n",
              "    </tr>\n",
              "  </tbody>\n",
              "</table>\n",
              "<p>5 rows × 22 columns</p>\n",
              "</div>\n",
              "      <button class=\"colab-df-convert\" onclick=\"convertToInteractive('df-4a4841fa-c267-477f-9443-9587e4e91f22')\"\n",
              "              title=\"Convert this dataframe to an interactive table.\"\n",
              "              style=\"display:none;\">\n",
              "        \n",
              "  <svg xmlns=\"http://www.w3.org/2000/svg\" height=\"24px\"viewBox=\"0 0 24 24\"\n",
              "       width=\"24px\">\n",
              "    <path d=\"M0 0h24v24H0V0z\" fill=\"none\"/>\n",
              "    <path d=\"M18.56 5.44l.94 2.06.94-2.06 2.06-.94-2.06-.94-.94-2.06-.94 2.06-2.06.94zm-11 1L8.5 8.5l.94-2.06 2.06-.94-2.06-.94L8.5 2.5l-.94 2.06-2.06.94zm10 10l.94 2.06.94-2.06 2.06-.94-2.06-.94-.94-2.06-.94 2.06-2.06.94z\"/><path d=\"M17.41 7.96l-1.37-1.37c-.4-.4-.92-.59-1.43-.59-.52 0-1.04.2-1.43.59L10.3 9.45l-7.72 7.72c-.78.78-.78 2.05 0 2.83L4 21.41c.39.39.9.59 1.41.59.51 0 1.02-.2 1.41-.59l7.78-7.78 2.81-2.81c.8-.78.8-2.07 0-2.86zM5.41 20L4 18.59l7.72-7.72 1.47 1.35L5.41 20z\"/>\n",
              "  </svg>\n",
              "      </button>\n",
              "      \n",
              "  <style>\n",
              "    .colab-df-container {\n",
              "      display:flex;\n",
              "      flex-wrap:wrap;\n",
              "      gap: 12px;\n",
              "    }\n",
              "\n",
              "    .colab-df-convert {\n",
              "      background-color: #E8F0FE;\n",
              "      border: none;\n",
              "      border-radius: 50%;\n",
              "      cursor: pointer;\n",
              "      display: none;\n",
              "      fill: #1967D2;\n",
              "      height: 32px;\n",
              "      padding: 0 0 0 0;\n",
              "      width: 32px;\n",
              "    }\n",
              "\n",
              "    .colab-df-convert:hover {\n",
              "      background-color: #E2EBFA;\n",
              "      box-shadow: 0px 1px 2px rgba(60, 64, 67, 0.3), 0px 1px 3px 1px rgba(60, 64, 67, 0.15);\n",
              "      fill: #174EA6;\n",
              "    }\n",
              "\n",
              "    [theme=dark] .colab-df-convert {\n",
              "      background-color: #3B4455;\n",
              "      fill: #D2E3FC;\n",
              "    }\n",
              "\n",
              "    [theme=dark] .colab-df-convert:hover {\n",
              "      background-color: #434B5C;\n",
              "      box-shadow: 0px 1px 3px 1px rgba(0, 0, 0, 0.15);\n",
              "      filter: drop-shadow(0px 1px 2px rgba(0, 0, 0, 0.3));\n",
              "      fill: #FFFFFF;\n",
              "    }\n",
              "  </style>\n",
              "\n",
              "      <script>\n",
              "        const buttonEl =\n",
              "          document.querySelector('#df-4a4841fa-c267-477f-9443-9587e4e91f22 button.colab-df-convert');\n",
              "        buttonEl.style.display =\n",
              "          google.colab.kernel.accessAllowed ? 'block' : 'none';\n",
              "\n",
              "        async function convertToInteractive(key) {\n",
              "          const element = document.querySelector('#df-4a4841fa-c267-477f-9443-9587e4e91f22');\n",
              "          const dataTable =\n",
              "            await google.colab.kernel.invokeFunction('convertToInteractive',\n",
              "                                                     [key], {});\n",
              "          if (!dataTable) return;\n",
              "\n",
              "          const docLinkHtml = 'Like what you see? Visit the ' +\n",
              "            '<a target=\"_blank\" href=https://colab.research.google.com/notebooks/data_table.ipynb>data table notebook</a>'\n",
              "            + ' to learn more about interactive tables.';\n",
              "          element.innerHTML = '';\n",
              "          dataTable['output_type'] = 'display_data';\n",
              "          await google.colab.output.renderOutput(dataTable, element);\n",
              "          const docLink = document.createElement('div');\n",
              "          docLink.innerHTML = docLinkHtml;\n",
              "          element.appendChild(docLink);\n",
              "        }\n",
              "      </script>\n",
              "    </div>\n",
              "  </div>\n",
              "  "
            ]
          },
          "metadata": {},
          "execution_count": 3
        }
      ],
      "source": [
        "data.head()"
      ]
    },
    {
      "cell_type": "code",
      "execution_count": null,
      "metadata": {
        "id": "Rq0saevKEZxz"
      },
      "outputs": [],
      "source": [
        "cols=list(data.columns[11:])\n",
        "del cols[7]"
      ]
    },
    {
      "cell_type": "code",
      "execution_count": null,
      "metadata": {
        "id": "-DQWD9GjEZ2n"
      },
      "outputs": [],
      "source": [
        "df=copy.deepcopy(data)\n",
        "df.drop(columns=cols,inplace=True)"
      ]
    },
    {
      "cell_type": "code",
      "execution_count": null,
      "metadata": {
        "id": "t_qfBEwVEZ7q"
      },
      "outputs": [],
      "source": [
        "sns.set(style=\"ticks\", context=\"talk\")\n",
        "plt.style.use(\"dark_background\")"
      ]
    },
    {
      "cell_type": "code",
      "execution_count": null,
      "metadata": {
        "colab": {
          "base_uri": "https://localhost:8080/",
          "height": 296
        },
        "id": "SMl051LXEZ__",
        "outputId": "d876e025-1bde-4831-f112-79b80c87d68a"
      },
      "outputs": [
        {
          "output_type": "execute_result",
          "data": {
            "text/plain": [
              "[<matplotlib.lines.Line2D at 0x7fd963034e90>]"
            ]
          },
          "metadata": {},
          "execution_count": 7
        },
        {
          "output_type": "display_data",
          "data": {
            "text/plain": [
              "<Figure size 432x288 with 1 Axes>"
            ],
            "image/png": "[encoded data removed]"
          },
          "metadata": {}
        }
      ],
      "source": [
        "plt.plot(df.danceability, df.energy)"
      ]
    },
    {
      "cell_type": "code",
      "execution_count": null,
      "metadata": {
        "id": "fwEUTeKgEaJO"
      },
      "outputs": [],
      "source": [
        "data.drop('Unnamed: 0',axis=1,inplace=True)"
      ]
    },
    {
      "cell_type": "code",
      "execution_count": null,
      "metadata": {
        "colab": {
          "base_uri": "https://localhost:8080/",
          "height": 542
        },
        "id": "KK-6M9gZEaN0",
        "outputId": "34b5a4b9-80e9-40a4-ce2d-b371a7163770"
      },
      "outputs": [
        {
          "output_type": "display_data",
          "data": {
            "application/vnd.plotly.v1+json": {
              "data": [
                {
                  "hoverongaps": false,
                  "x": [
                    "danceability",
                    "energy",
                    "key",
                    "loudness",
                    "mode",
                    "speechiness",
                    "acousticness",
                    "instrumentalness",
                    "liveness",
                    "valence",
                    "tempo",
                    "duration_ms",
                    "time_signature"
                  ],
                  "y": [
                    "danceability",
                    "energy",
                    "key",
                    "loudness",
                    "mode",
                    "speechiness",
                    "acousticness",
                    "instrumentalness",
                    "liveness",
                    "valence",
                    "tempo",
                    "duration_ms",
                    "time_signature"
                  ],
                  "z": [
                    [
                      1,
                      -0.3232475893898419,
                      -0.012707779911488016,
                      -0.21677558073253989,
                      0.08441347160202689,
                      0.18217692430188193,
                      0.06990976582405083,
                      -0.06711359015412817,
                      -0.19670227857840406,
                      0.3698446982406308,
                      -0.16592868259426632,
                      -0.049807114596492036,
                      0.05771066857870381
                    ],
                    [
                      -0.3232475893898419,
                      1,
                      0.044731201774190106,
                      0.6015399459599144,
                      -0.032202912837577785,
                      -0.14836272537746995,
                      -0.4973344720419985,
                      0.30387529240496375,
                      0.2317537882412499,
                      -0.013519692624503291,
                      -0.024503859398166912,
                      0.2944640297738579,
                      0.039780590675559384
                    ],
                    [
                      -0.012707779911488016,
                      0.044731201774190106,
                      1,
                      -0.006810131360445576,
                      -0.24828315972640708,
                      -0.030634061769101693,
                      -0.004937026495505438,
                      0.06826551814125115,
                      0.002752778212911147,
                      0.028599930151566786,
                      -0.009861792780994465,
                      0.06925458460521938,
                      0.00806093470392874
                    ],
                    [
                      -0.21677558073253989,
                      0.6015399459599144,
                      -0.006810131360445576,
                      1,
                      -0.00474379159793577,
                      0.04803539012221404,
                      -0.2838756710483457,
                      -0.1879327680741461,
                      0.1671037187958191,
                      0.08091618276919375,
                      0.1516095286267797,
                      -0.09599935540800232,
                      0.0474713348204822
                    ],
                    [
                      0.08441347160202689,
                      -0.032202912837577785,
                      -0.24828315972640708,
                      -0.00474379159793577,
                      1,
                      0.05025973705994897,
                      -0.01451397325479406,
                      -0.016402459526719166,
                      0.0072803949111063535,
                      0.02220829648797241,
                      -0.01219070118424993,
                      -0.03125311656584934,
                      -0.00931693701741374
                    ],
                    [
                      0.18217692430188193,
                      -0.14836272537746995,
                      -0.030634061769101693,
                      0.04803539012221404,
                      0.05025973705994897,
                      1,
                      0.16018405537392835,
                      -0.3865714902249661,
                      0.057431920561105416,
                      0.21882903805611834,
                      0.1646742230901986,
                      -0.3098923061539077,
                      0.021636909150240528
                    ],
                    [
                      0.06990976582405083,
                      -0.4973344720419985,
                      -0.004937026495505438,
                      -0.2838756710483457,
                      -0.01451397325479406,
                      0.16018405537392835,
                      1,
                      -0.26189641994073326,
                      -0.10722943769527496,
                      0.09932768476440244,
                      0.05564252837892545,
                      -0.24668127357781322,
                      -0.04979103545981831
                    ],
                    [
                      -0.06711359015412817,
                      0.30387529240496375,
                      0.06826551814125115,
                      -0.1879327680741461,
                      -0.016402459526719166,
                      -0.3865714902249661,
                      -0.26189641994073326,
                      1,
                      -0.015990347017295844,
                      -0.25706803603405964,
                      -0.2076665816121336,
                      0.6037842517327617,
                      -0.01016391533311894
                    ],
                    [
                      -0.19670227857840406,
                      0.2317537882412499,
                      0.002752778212911147,
                      0.1671037187958191,
                      0.0072803949111063535,
                      0.057431920561105416,
                      -0.10722943769527496,
                      -0.015990347017295844,
                      1,
                      -0.02515561353227147,
                      0.028327487059943913,
                      0.01059402894946943,
                      0.0030767862905494553
                    ],
                    [
                      0.3698446982406308,
                      -0.013519692624503291,
                      0.028599930151566786,
                      0.08091618276919375,
                      0.02220829648797241,
                      0.21882903805611834,
                      0.09932768476440244,
                      -0.25706803603405964,
                      -0.02515561353227147,
                      1,
                      0.058374147254621964,
                      -0.19109308413676312,
                      0.04030770123902514
                    ],
                    [
                      -0.16592868259426632,
                      -0.024503859398166912,
                      -0.009861792780994465,
                      0.1516095286267797,
                      -0.01219070118424993,
                      0.1646742230901986,
                      0.05564252837892545,
                      -0.2076665816121336,
                      0.028327487059943913,
                      0.058374147254621964,
                      1,
                      -0.15696093947202142,
                      -0.019777698247461496
                    ],
                    [
                      -0.049807114596492036,
                      0.2944640297738579,
                      0.06925458460521938,
                      -0.09599935540800232,
                      -0.03125311656584934,
                      -0.3098923061539077,
                      -0.24668127357781322,
                      0.6037842517327617,
                      0.01059402894946943,
                      -0.19109308413676312,
                      -0.15696093947202142,
                      1,
                      0.003039795073142229
                    ],
                    [
                      0.05771066857870381,
                      0.039780590675559384,
                      0.00806093470392874,
                      0.0474713348204822,
                      -0.00931693701741374,
                      0.021636909150240528,
                      -0.04979103545981831,
                      -0.01016391533311894,
                      0.0030767862905494553,
                      0.04030770123902514,
                      -0.019777698247461496,
                      0.003039795073142229,
                      1
                    ]
                  ],
                  "type": "heatmap"
                }
              ],
              "layout": {
                "template": {
                  "data": {
                    "bar": [
                      {
                        "error_x": {
                          "color": "#2a3f5f"
                        },
                        "error_y": {
                          "color": "#2a3f5f"
                        },
                        "marker": {
                          "line": {
                            "color": "#E5ECF6",
                            "width": 0.5
                          },
                          "pattern": {
                            "fillmode": "overlay",
                            "size": 10,
                            "solidity": 0.2
                          }
                        },
                        "type": "bar"
                      }
                    ],
                    "barpolar": [
                      {
                        "marker": {
                          "line": {
                            "color": "#E5ECF6",
                            "width": 0.5
                          },
                          "pattern": {
                            "fillmode": "overlay",
                            "size": 10,
                            "solidity": 0.2
                          }
                        },
                        "type": "barpolar"
                      }
                    ],
                    "carpet": [
                      {
                        "aaxis": {
                          "endlinecolor": "#2a3f5f",
                          "gridcolor": "white",
                          "linecolor": "white",
                          "minorgridcolor": "white",
                          "startlinecolor": "#2a3f5f"
                        },
                        "baxis": {
                          "endlinecolor": "#2a3f5f",
                          "gridcolor": "white",
                          "linecolor": "white",
                          "minorgridcolor": "white",
                          "startlinecolor": "#2a3f5f"
                        },
                        "type": "carpet"
                      }
                    ],
                    "choropleth": [
                      {
                        "colorbar": {
                          "outlinewidth": 0,
                          "ticks": ""
                        },
                        "type": "choropleth"
                      }
                    ],
                    "contour": [
                      {
                        "colorbar": {
                          "outlinewidth": 0,
                          "ticks": ""
                        },
                        "colorscale": [
                          [
                            0,
                            "#0d0887"
                          ],
                          [
                            0.1111111111111111,
                            "#46039f"
                          ],
                          [
                            0.2222222222222222,
                            "#7201a8"
                          ],
                          [
                            0.3333333333333333,
                            "#9c179e"
                          ],
                          [
                            0.4444444444444444,
                            "#bd3786"
                          ],
                          [
                            0.5555555555555556,
                            "#d8576b"
                          ],
                          [
                            0.6666666666666666,
                            "#ed7953"
                          ],
                          [
                            0.7777777777777778,
                            "#fb9f3a"
                          ],
                          [
                            0.8888888888888888,
                            "#fdca26"
                          ],
                          [
                            1,
                            "#f0f921"
                          ]
                        ],
                        "type": "contour"
                      }
                    ],
                    "contourcarpet": [
                      {
                        "colorbar": {
                          "outlinewidth": 0,
                          "ticks": ""
                        },
                        "type": "contourcarpet"
                      }
                    ],
                    "heatmap": [
                      {
                        "colorbar": {
                          "outlinewidth": 0,
                          "ticks": ""
                        },
                        "colorscale": [
                          [
                            0,
                            "#0d0887"
                          ],
                          [
                            0.1111111111111111,
                            "#46039f"
                          ],
                          [
                            0.2222222222222222,
                            "#7201a8"
                          ],
                          [
                            0.3333333333333333,
                            "#9c179e"
                          ],
                          [
                            0.4444444444444444,
                            "#bd3786"
                          ],
                          [
                            0.5555555555555556,
                            "#d8576b"
                          ],
                          [
                            0.6666666666666666,
                            "#ed7953"
                          ],
                          [
                            0.7777777777777778,
                            "#fb9f3a"
                          ],
                          [
                            0.8888888888888888,
                            "#fdca26"
                          ],
                          [
                            1,
                            "#f0f921"
                          ]
                        ],
                        "type": "heatmap"
                      }
                    ],
                    "heatmapgl": [
                      {
                        "colorbar": {
                          "outlinewidth": 0,
                          "ticks": ""
                        },
                        "colorscale": [
                          [
                            0,
                            "#0d0887"
                          ],
                          [
                            0.1111111111111111,
                            "#46039f"
                          ],
                          [
                            0.2222222222222222,
                            "#7201a8"
                          ],
                          [
                            0.3333333333333333,
                            "#9c179e"
                          ],
                          [
                            0.4444444444444444,
                            "#bd3786"
                          ],
                          [
                            0.5555555555555556,
                            "#d8576b"
                          ],
                          [
                            0.6666666666666666,
                            "#ed7953"
                          ],
                          [
                            0.7777777777777778,
                            "#fb9f3a"
                          ],
                          [
                            0.8888888888888888,
                            "#fdca26"
                          ],
                          [
                            1,
                            "#f0f921"
                          ]
                        ],
                        "type": "heatmapgl"
                      }
                    ],
                    "histogram": [
                      {
                        "marker": {
                          "pattern": {
                            "fillmode": "overlay",
                            "size": 10,
                            "solidity": 0.2
                          }
                        },
                        "type": "histogram"
                      }
                    ],
                    "histogram2d": [
                      {
                        "colorbar": {
                          "outlinewidth": 0,
                          "ticks": ""
                        },
                        "colorscale": [
                          [
                            0,
                            "#0d0887"
                          ],
                          [
                            0.1111111111111111,
                            "#46039f"
                          ],
                          [
                            0.2222222222222222,
                            "#7201a8"
                          ],
                          [
                            0.3333333333333333,
                            "#9c179e"
                          ],
                          [
                            0.4444444444444444,
                            "#bd3786"
                          ],
                          [
                            0.5555555555555556,
                            "#d8576b"
                          ],
                          [
                            0.6666666666666666,
                            "#ed7953"
                          ],
                          [
                            0.7777777777777778,
                            "#fb9f3a"
                          ],
                          [
                            0.8888888888888888,
                            "#fdca26"
                          ],
                          [
                            1,
                            "#f0f921"
                          ]
                        ],
                        "type": "histogram2d"
                      }
                    ],
                    "histogram2dcontour": [
                      {
                        "colorbar": {
                          "outlinewidth": 0,
                          "ticks": ""
                        },
                        "colorscale": [
                          [
                            0,
                            "#0d0887"
                          ],
                          [
                            0.1111111111111111,
                            "#46039f"
                          ],
                          [
                            0.2222222222222222,
                            "#7201a8"
                          ],
                          [
                            0.3333333333333333,
                            "#9c179e"
                          ],
                          [
                            0.4444444444444444,
                            "#bd3786"
                          ],
                          [
                            0.5555555555555556,
                            "#d8576b"
                          ],
                          [
                            0.6666666666666666,
                            "#ed7953"
                          ],
                          [
                            0.7777777777777778,
                            "#fb9f3a"
                          ],
                          [
                            0.8888888888888888,
                            "#fdca26"
                          ],
                          [
                            1,
                            "#f0f921"
                          ]
                        ],
                        "type": "histogram2dcontour"
                      }
                    ],
                    "mesh3d": [
                      {
                        "colorbar": {
                          "outlinewidth": 0,
                          "ticks": ""
                        },
                        "type": "mesh3d"
                      }
                    ],
                    "parcoords": [
                      {
                        "line": {
                          "colorbar": {
                            "outlinewidth": 0,
                            "ticks": ""
                          }
                        },
                        "type": "parcoords"
                      }
                    ],
                    "pie": [
                      {
                        "automargin": true,
                        "type": "pie"
                      }
                    ],
                    "scatter": [
                      {
                        "marker": {
                          "colorbar": {
                            "outlinewidth": 0,
                            "ticks": ""
                          }
                        },
                        "type": "scatter"
                      }
                    ],
                    "scatter3d": [
                      {
                        "line": {
                          "colorbar": {
                            "outlinewidth": 0,
                            "ticks": ""
                          }
                        },
                        "marker": {
                          "colorbar": {
                            "outlinewidth": 0,
                            "ticks": ""
                          }
                        },
                        "type": "scatter3d"
                      }
                    ],
                    "scattercarpet": [
                      {
                        "marker": {
                          "colorbar": {
                            "outlinewidth": 0,
                            "ticks": ""
                          }
                        },
                        "type": "scattercarpet"
                      }
                    ],
                    "scattergeo": [
                      {
                        "marker": {
                          "colorbar": {
                            "outlinewidth": 0,
                            "ticks": ""
                          }
                        },
                        "type": "scattergeo"
                      }
                    ],
                    "scattergl": [
                      {
                        "marker": {
                          "colorbar": {
                            "outlinewidth": 0,
                            "ticks": ""
                          }
                        },
                        "type": "scattergl"
                      }
                    ],
                    "scattermapbox": [
                      {
                        "marker": {
                          "colorbar": {
                            "outlinewidth": 0,
                            "ticks": ""
                          }
                        },
                        "type": "scattermapbox"
                      }
                    ],
                    "scatterpolar": [
                      {
                        "marker": {
                          "colorbar": {
                            "outlinewidth": 0,
                            "ticks": ""
                          }
                        },
                        "type": "scatterpolar"
                      }
                    ],
                    "scatterpolargl": [
                      {
                        "marker": {
                          "colorbar": {
                            "outlinewidth": 0,
                            "ticks": ""
                          }
                        },
                        "type": "scatterpolargl"
                      }
                    ],
                    "scatterternary": [
                      {
                        "marker": {
                          "colorbar": {
                            "outlinewidth": 0,
                            "ticks": ""
                          }
                        },
                        "type": "scatterternary"
                      }
                    ],
                    "surface": [
                      {
                        "colorbar": {
                          "outlinewidth": 0,
                          "ticks": ""
                        },
                        "colorscale": [
                          [
                            0,
                            "#0d0887"
                          ],
                          [
                            0.1111111111111111,
                            "#46039f"
                          ],
                          [
                            0.2222222222222222,
                            "#7201a8"
                          ],
                          [
                            0.3333333333333333,
                            "#9c179e"
                          ],
                          [
                            0.4444444444444444,
                            "#bd3786"
                          ],
                          [
                            0.5555555555555556,
                            "#d8576b"
                          ],
                          [
                            0.6666666666666666,
                            "#ed7953"
                          ],
                          [
                            0.7777777777777778,
                            "#fb9f3a"
                          ],
                          [
                            0.8888888888888888,
                            "#fdca26"
                          ],
                          [
                            1,
                            "#f0f921"
                          ]
                        ],
                        "type": "surface"
                      }
                    ],
                    "table": [
                      {
                        "cells": {
                          "fill": {
                            "color": "#EBF0F8"
                          },
                          "line": {
                            "color": "white"
                          }
                        },
                        "header": {
                          "fill": {
                            "color": "#C8D4E3"
                          },
                          "line": {
                            "color": "white"
                          }
                        },
                        "type": "table"
                      }
                    ]
                  },
                  "layout": {
                    "annotationdefaults": {
                      "arrowcolor": "#2a3f5f",
                      "arrowhead": 0,
                      "arrowwidth": 1
                    },
                    "autotypenumbers": "strict",
                    "coloraxis": {
                      "colorbar": {
                        "outlinewidth": 0,
                        "ticks": ""
                      }
                    },
                    "colorscale": {
                      "diverging": [
                        [
                          0,
                          "#8e0152"
                        ],
                        [
                          0.1,
                          "#c51b7d"
                        ],
                        [
                          0.2,
                          "#de77ae"
                        ],
                        [
                          0.3,
                          "#f1b6da"
                        ],
                        [
                          0.4,
                          "#fde0ef"
                        ],
                        [
                          0.5,
                          "#f7f7f7"
                        ],
                        [
                          0.6,
                          "#e6f5d0"
                        ],
                        [
                          0.7,
                          "#b8e186"
                        ],
                        [
                          0.8,
                          "#7fbc41"
                        ],
                        [
                          0.9,
                          "#4d9221"
                        ],
                        [
                          1,
                          "#276419"
                        ]
                      ],
                      "sequential": [
                        [
                          0,
                          "#0d0887"
                        ],
                        [
                          0.1111111111111111,
                          "#46039f"
                        ],
                        [
                          0.2222222222222222,
                          "#7201a8"
                        ],
                        [
                          0.3333333333333333,
                          "#9c179e"
                        ],
                        [
                          0.4444444444444444,
                          "#bd3786"
                        ],
                        [
                          0.5555555555555556,
                          "#d8576b"
                        ],
                        [
                          0.6666666666666666,
                          "#ed7953"
                        ],
                        [
                          0.7777777777777778,
                          "#fb9f3a"
                        ],
                        [
                          0.8888888888888888,
                          "#fdca26"
                        ],
                        [
                          1,
                          "#f0f921"
                        ]
                      ],
                      "sequentialminus": [
                        [
                          0,
                          "#0d0887"
                        ],
                        [
                          0.1111111111111111,
                          "#46039f"
                        ],
                        [
                          0.2222222222222222,
                          "#7201a8"
                        ],
                        [
                          0.3333333333333333,
                          "#9c179e"
                        ],
                        [
                          0.4444444444444444,
                          "#bd3786"
                        ],
                        [
                          0.5555555555555556,
                          "#d8576b"
                        ],
                        [
                          0.6666666666666666,
                          "#ed7953"
                        ],
                        [
                          0.7777777777777778,
                          "#fb9f3a"
                        ],
                        [
                          0.8888888888888888,
                          "#fdca26"
                        ],
                        [
                          1,
                          "#f0f921"
                        ]
                      ]
                    },
                    "colorway": [
                      "#636efa",
                      "#EF553B",
                      "#00cc96",
                      "#ab63fa",
                      "#FFA15A",
                      "#19d3f3",
                      "#FF6692",
                      "#B6E880",
                      "#FF97FF",
                      "#FECB52"
                    ],
                    "font": {
                      "color": "#2a3f5f"
                    },
                    "geo": {
                      "bgcolor": "white",
                      "lakecolor": "white",
                      "landcolor": "#E5ECF6",
                      "showlakes": true,
                      "showland": true,
                      "subunitcolor": "white"
                    },
                    "hoverlabel": {
                      "align": "left"
                    },
                    "hovermode": "closest",
                    "mapbox": {
                      "style": "light"
                    },
                    "paper_bgcolor": "white",
                    "plot_bgcolor": "#E5ECF6",
                    "polar": {
                      "angularaxis": {
                        "gridcolor": "white",
                        "linecolor": "white",
                        "ticks": ""
                      },
                      "bgcolor": "#E5ECF6",
                      "radialaxis": {
                        "gridcolor": "white",
                        "linecolor": "white",
                        "ticks": ""
                      }
                    },
                    "scene": {
                      "xaxis": {
                        "backgroundcolor": "#E5ECF6",
                        "gridcolor": "white",
                        "gridwidth": 2,
                        "linecolor": "white",
                        "showbackground": true,
                        "ticks": "",
                        "zerolinecolor": "white"
                      },
                      "yaxis": {
                        "backgroundcolor": "#E5ECF6",
                        "gridcolor": "white",
                        "gridwidth": 2,
                        "linecolor": "white",
                        "showbackground": true,
                        "ticks": "",
                        "zerolinecolor": "white"
                      },
                      "zaxis": {
                        "backgroundcolor": "#E5ECF6",
                        "gridcolor": "white",
                        "gridwidth": 2,
                        "linecolor": "white",
                        "showbackground": true,
                        "ticks": "",
                        "zerolinecolor": "white"
                      }
                    },
                    "shapedefaults": {
                      "line": {
                        "color": "#2a3f5f"
                      }
                    },
                    "ternary": {
                      "aaxis": {
                        "gridcolor": "white",
                        "linecolor": "white",
                        "ticks": ""
                      },
                      "baxis": {
                        "gridcolor": "white",
                        "linecolor": "white",
                        "ticks": ""
                      },
                      "bgcolor": "#E5ECF6",
                      "caxis": {
                        "gridcolor": "white",
                        "linecolor": "white",
                        "ticks": ""
                      }
                    },
                    "title": {
                      "x": 0.05
                    },
                    "xaxis": {
                      "automargin": true,
                      "gridcolor": "white",
                      "linecolor": "white",
                      "ticks": "",
                      "title": {
                        "standoff": 15
                      },
                      "zerolinecolor": "white",
                      "zerolinewidth": 2
                    },
                    "yaxis": {
                      "automargin": true,
                      "gridcolor": "white",
                      "linecolor": "white",
                      "ticks": "",
                      "title": {
                        "standoff": 15
                      },
                      "zerolinecolor": "white",
                      "zerolinewidth": 2
                    }
                  }
                }
              },
              "config": {
                "plotlyServerURL": "https://plot.ly"
              }
            },
            "text/html": [
              "<div>                            <div id=\"3669beff-b052-4a44-a34f-75d13bcba0cd\" class=\"plotly-graph-div\" style=\"height:525px; width:100%;\"></div>            <script type=\"text/javascript\">                require([\"plotly\"], function(Plotly) {                    window.PLOTLYENV=window.PLOTLYENV || {};                                    if (document.getElementById(\"3669beff-b052-4a44-a34f-75d13bcba0cd\")) {                    Plotly.newPlot(                        \"3669beff-b052-4a44-a34f-75d13bcba0cd\",                        [{\"hoverongaps\":false,\"x\":[\"danceability\",\"energy\",\"key\",\"loudness\",\"mode\",\"speechiness\",\"acousticness\",\"instrumentalness\",\"liveness\",\"valence\",\"tempo\",\"duration_ms\",\"time_signature\"],\"y\":[\"danceability\",\"energy\",\"key\",\"loudness\",\"mode\",\"speechiness\",\"acousticness\",\"instrumentalness\",\"liveness\",\"valence\",\"tempo\",\"duration_ms\",\"time_signature\"],\"z\":[[1.0,-0.3232475893898419,-0.012707779911488016,-0.21677558073253989,0.08441347160202689,0.18217692430188193,0.06990976582405083,-0.06711359015412817,-0.19670227857840406,0.3698446982406308,-0.16592868259426632,-0.049807114596492036,0.05771066857870381],[-0.3232475893898419,1.0,0.044731201774190106,0.6015399459599144,-0.032202912837577785,-0.14836272537746995,-0.4973344720419985,0.30387529240496375,0.2317537882412499,-0.013519692624503291,-0.024503859398166912,0.2944640297738579,0.039780590675559384],[-0.012707779911488016,0.044731201774190106,1.0,-0.006810131360445576,-0.24828315972640708,-0.030634061769101693,-0.004937026495505438,0.06826551814125115,0.002752778212911147,0.028599930151566786,-0.009861792780994465,0.06925458460521938,0.00806093470392874],[-0.21677558073253989,0.6015399459599144,-0.006810131360445576,1.0,-0.00474379159793577,0.04803539012221404,-0.2838756710483457,-0.1879327680741461,0.1671037187958191,0.08091618276919375,0.1516095286267797,-0.09599935540800232,0.0474713348204822],[0.08441347160202689,-0.032202912837577785,-0.24828315972640708,-0.00474379159793577,1.0,0.05025973705994897,-0.01451397325479406,-0.016402459526719166,0.0072803949111063535,0.02220829648797241,-0.01219070118424993,-0.03125311656584934,-0.00931693701741374],[0.18217692430188193,-0.14836272537746995,-0.030634061769101693,0.04803539012221404,0.05025973705994897,1.0,0.16018405537392835,-0.3865714902249661,0.057431920561105416,0.21882903805611834,0.1646742230901986,-0.3098923061539077,0.021636909150240528],[0.06990976582405083,-0.4973344720419985,-0.004937026495505438,-0.2838756710483457,-0.01451397325479406,0.16018405537392835,1.0,-0.26189641994073326,-0.10722943769527496,0.09932768476440244,0.05564252837892545,-0.24668127357781322,-0.04979103545981831],[-0.06711359015412817,0.30387529240496375,0.06826551814125115,-0.1879327680741461,-0.016402459526719166,-0.3865714902249661,-0.26189641994073326,1.0,-0.015990347017295844,-0.25706803603405964,-0.2076665816121336,0.6037842517327617,-0.01016391533311894],[-0.19670227857840406,0.2317537882412499,0.002752778212911147,0.1671037187958191,0.0072803949111063535,0.057431920561105416,-0.10722943769527496,-0.015990347017295844,1.0,-0.02515561353227147,0.028327487059943913,0.01059402894946943,0.0030767862905494553],[0.3698446982406308,-0.013519692624503291,0.028599930151566786,0.08091618276919375,0.02220829648797241,0.21882903805611834,0.09932768476440244,-0.25706803603405964,-0.02515561353227147,1.0,0.058374147254621964,-0.19109308413676312,0.04030770123902514],[-0.16592868259426632,-0.024503859398166912,-0.009861792780994465,0.1516095286267797,-0.01219070118424993,0.1646742230901986,0.05564252837892545,-0.2076665816121336,0.028327487059943913,0.058374147254621964,1.0,-0.15696093947202142,-0.019777698247461496],[-0.049807114596492036,0.2944640297738579,0.06925458460521938,-0.09599935540800232,-0.03125311656584934,-0.3098923061539077,-0.24668127357781322,0.6037842517327617,0.01059402894946943,-0.19109308413676312,-0.15696093947202142,1.0,0.003039795073142229],[0.05771066857870381,0.039780590675559384,0.00806093470392874,0.0474713348204822,-0.00931693701741374,0.021636909150240528,-0.04979103545981831,-0.01016391533311894,0.0030767862905494553,0.04030770123902514,-0.019777698247461496,0.003039795073142229,1.0]],\"type\":\"heatmap\"}],                        {\"template\":{\"data\":{\"bar\":[{\"error_x\":{\"color\":\"#2a3f5f\"},\"error_y\":{\"color\":\"#2a3f5f\"},\"marker\":{\"line\":{\"color\":\"#E5ECF6\",\"width\":0.5},\"pattern\":{\"fillmode\":\"overlay\",\"size\":10,\"solidity\":0.2}},\"type\":\"bar\"}],\"barpolar\":[{\"marker\":{\"line\":{\"color\":\"#E5ECF6\",\"width\":0.5},\"pattern\":{\"fillmode\":\"overlay\",\"size\":10,\"solidity\":0.2}},\"type\":\"barpolar\"}],\"carpet\":[{\"aaxis\":{\"endlinecolor\":\"#2a3f5f\",\"gridcolor\":\"white\",\"linecolor\":\"white\",\"minorgridcolor\":\"white\",\"startlinecolor\":\"#2a3f5f\"},\"baxis\":{\"endlinecolor\":\"#2a3f5f\",\"gridcolor\":\"white\",\"linecolor\":\"white\",\"minorgridcolor\":\"white\",\"startlinecolor\":\"#2a3f5f\"},\"type\":\"carpet\"}],\"choropleth\":[{\"colorbar\":{\"outlinewidth\":0,\"ticks\":\"\"},\"type\":\"choropleth\"}],\"contour\":[{\"colorbar\":{\"outlinewidth\":0,\"ticks\":\"\"},\"colorscale\":[[0.0,\"#0d0887\"],[0.1111111111111111,\"#46039f\"],[0.2222222222222222,\"#7201a8\"],[0.3333333333333333,\"#9c179e\"],[0.4444444444444444,\"#bd3786\"],[0.5555555555555556,\"#d8576b\"],[0.6666666666666666,\"#ed7953\"],[0.7777777777777778,\"#fb9f3a\"],[0.8888888888888888,\"#fdca26\"],[1.0,\"#f0f921\"]],\"type\":\"contour\"}],\"contourcarpet\":[{\"colorbar\":{\"outlinewidth\":0,\"ticks\":\"\"},\"type\":\"contourcarpet\"}],\"heatmap\":[{\"colorbar\":{\"outlinewidth\":0,\"ticks\":\"\"},\"colorscale\":[[0.0,\"#0d0887\"],[0.1111111111111111,\"#46039f\"],[0.2222222222222222,\"#7201a8\"],[0.3333333333333333,\"#9c179e\"],[0.4444444444444444,\"#bd3786\"],[0.5555555555555556,\"#d8576b\"],[0.6666666666666666,\"#ed7953\"],[0.7777777777777778,\"#fb9f3a\"],[0.8888888888888888,\"#fdca26\"],[1.0,\"#f0f921\"]],\"type\":\"heatmap\"}],\"heatmapgl\":[{\"colorbar\":{\"outlinewidth\":0,\"ticks\":\"\"},\"colorscale\":[[0.0,\"#0d0887\"],[0.1111111111111111,\"#46039f\"],[0.2222222222222222,\"#7201a8\"],[0.3333333333333333,\"#9c179e\"],[0.4444444444444444,\"#bd3786\"],[0.5555555555555556,\"#d8576b\"],[0.6666666666666666,\"#ed7953\"],[0.7777777777777778,\"#fb9f3a\"],[0.8888888888888888,\"#fdca26\"],[1.0,\"#f0f921\"]],\"type\":\"heatmapgl\"}],\"histogram\":[{\"marker\":{\"pattern\":{\"fillmode\":\"overlay\",\"size\":10,\"solidity\":0.2}},\"type\":\"histogram\"}],\"histogram2d\":[{\"colorbar\":{\"outlinewidth\":0,\"ticks\":\"\"},\"colorscale\":[[0.0,\"#0d0887\"],[0.1111111111111111,\"#46039f\"],[0.2222222222222222,\"#7201a8\"],[0.3333333333333333,\"#9c179e\"],[0.4444444444444444,\"#bd3786\"],[0.5555555555555556,\"#d8576b\"],[0.6666666666666666,\"#ed7953\"],[0.7777777777777778,\"#fb9f3a\"],[0.8888888888888888,\"#fdca26\"],[1.0,\"#f0f921\"]],\"type\":\"histogram2d\"}],\"histogram2dcontour\":[{\"colorbar\":{\"outlinewidth\":0,\"ticks\":\"\"},\"colorscale\":[[0.0,\"#0d0887\"],[0.1111111111111111,\"#46039f\"],[0.2222222222222222,\"#7201a8\"],[0.3333333333333333,\"#9c179e\"],[0.4444444444444444,\"#bd3786\"],[0.5555555555555556,\"#d8576b\"],[0.6666666666666666,\"#ed7953\"],[0.7777777777777778,\"#fb9f3a\"],[0.8888888888888888,\"#fdca26\"],[1.0,\"#f0f921\"]],\"type\":\"histogram2dcontour\"}],\"mesh3d\":[{\"colorbar\":{\"outlinewidth\":0,\"ticks\":\"\"},\"type\":\"mesh3d\"}],\"parcoords\":[{\"line\":{\"colorbar\":{\"outlinewidth\":0,\"ticks\":\"\"}},\"type\":\"parcoords\"}],\"pie\":[{\"automargin\":true,\"type\":\"pie\"}],\"scatter\":[{\"marker\":{\"colorbar\":{\"outlinewidth\":0,\"ticks\":\"\"}},\"type\":\"scatter\"}],\"scatter3d\":[{\"line\":{\"colorbar\":{\"outlinewidth\":0,\"ticks\":\"\"}},\"marker\":{\"colorbar\":{\"outlinewidth\":0,\"ticks\":\"\"}},\"type\":\"scatter3d\"}],\"scattercarpet\":[{\"marker\":{\"colorbar\":{\"outlinewidth\":0,\"ticks\":\"\"}},\"type\":\"scattercarpet\"}],\"scattergeo\":[{\"marker\":{\"colorbar\":{\"outlinewidth\":0,\"ticks\":\"\"}},\"type\":\"scattergeo\"}],\"scattergl\":[{\"marker\":{\"colorbar\":{\"outlinewidth\":0,\"ticks\":\"\"}},\"type\":\"scattergl\"}],\"scattermapbox\":[{\"marker\":{\"colorbar\":{\"outlinewidth\":0,\"ticks\":\"\"}},\"type\":\"scattermapbox\"}],\"scatterpolar\":[{\"marker\":{\"colorbar\":{\"outlinewidth\":0,\"ticks\":\"\"}},\"type\":\"scatterpolar\"}],\"scatterpolargl\":[{\"marker\":{\"colorbar\":{\"outlinewidth\":0,\"ticks\":\"\"}},\"type\":\"scatterpolargl\"}],\"scatterternary\":[{\"marker\":{\"colorbar\":{\"outlinewidth\":0,\"ticks\":\"\"}},\"type\":\"scatterternary\"}],\"surface\":[{\"colorbar\":{\"outlinewidth\":0,\"ticks\":\"\"},\"colorscale\":[[0.0,\"#0d0887\"],[0.1111111111111111,\"#46039f\"],[0.2222222222222222,\"#7201a8\"],[0.3333333333333333,\"#9c179e\"],[0.4444444444444444,\"#bd3786\"],[0.5555555555555556,\"#d8576b\"],[0.6666666666666666,\"#ed7953\"],[0.7777777777777778,\"#fb9f3a\"],[0.8888888888888888,\"#fdca26\"],[1.0,\"#f0f921\"]],\"type\":\"surface\"}],\"table\":[{\"cells\":{\"fill\":{\"color\":\"#EBF0F8\"},\"line\":{\"color\":\"white\"}},\"header\":{\"fill\":{\"color\":\"#C8D4E3\"},\"line\":{\"color\":\"white\"}},\"type\":\"table\"}]},\"layout\":{\"annotationdefaults\":{\"arrowcolor\":\"#2a3f5f\",\"arrowhead\":0,\"arrowwidth\":1},\"autotypenumbers\":\"strict\",\"coloraxis\":{\"colorbar\":{\"outlinewidth\":0,\"ticks\":\"\"}},\"colorscale\":{\"diverging\":[[0,\"#8e0152\"],[0.1,\"#c51b7d\"],[0.2,\"#de77ae\"],[0.3,\"#f1b6da\"],[0.4,\"#fde0ef\"],[0.5,\"#f7f7f7\"],[0.6,\"#e6f5d0\"],[0.7,\"#b8e186\"],[0.8,\"#7fbc41\"],[0.9,\"#4d9221\"],[1,\"#276419\"]],\"sequential\":[[0.0,\"#0d0887\"],[0.1111111111111111,\"#46039f\"],[0.2222222222222222,\"#7201a8\"],[0.3333333333333333,\"#9c179e\"],[0.4444444444444444,\"#bd3786\"],[0.5555555555555556,\"#d8576b\"],[0.6666666666666666,\"#ed7953\"],[0.7777777777777778,\"#fb9f3a\"],[0.8888888888888888,\"#fdca26\"],[1.0,\"#f0f921\"]],\"sequentialminus\":[[0.0,\"#0d0887\"],[0.1111111111111111,\"#46039f\"],[0.2222222222222222,\"#7201a8\"],[0.3333333333333333,\"#9c179e\"],[0.4444444444444444,\"#bd3786\"],[0.5555555555555556,\"#d8576b\"],[0.6666666666666666,\"#ed7953\"],[0.7777777777777778,\"#fb9f3a\"],[0.8888888888888888,\"#fdca26\"],[1.0,\"#f0f921\"]]},\"colorway\":[\"#636efa\",\"#EF553B\",\"#00cc96\",\"#ab63fa\",\"#FFA15A\",\"#19d3f3\",\"#FF6692\",\"#B6E880\",\"#FF97FF\",\"#FECB52\"],\"font\":{\"color\":\"#2a3f5f\"},\"geo\":{\"bgcolor\":\"white\",\"lakecolor\":\"white\",\"landcolor\":\"#E5ECF6\",\"showlakes\":true,\"showland\":true,\"subunitcolor\":\"white\"},\"hoverlabel\":{\"align\":\"left\"},\"hovermode\":\"closest\",\"mapbox\":{\"style\":\"light\"},\"paper_bgcolor\":\"white\",\"plot_bgcolor\":\"#E5ECF6\",\"polar\":{\"angularaxis\":{\"gridcolor\":\"white\",\"linecolor\":\"white\",\"ticks\":\"\"},\"bgcolor\":\"#E5ECF6\",\"radialaxis\":{\"gridcolor\":\"white\",\"linecolor\":\"white\",\"ticks\":\"\"}},\"scene\":{\"xaxis\":{\"backgroundcolor\":\"#E5ECF6\",\"gridcolor\":\"white\",\"gridwidth\":2,\"linecolor\":\"white\",\"showbackground\":true,\"ticks\":\"\",\"zerolinecolor\":\"white\"},\"yaxis\":{\"backgroundcolor\":\"#E5ECF6\",\"gridcolor\":\"white\",\"gridwidth\":2,\"linecolor\":\"white\",\"showbackground\":true,\"ticks\":\"\",\"zerolinecolor\":\"white\"},\"zaxis\":{\"backgroundcolor\":\"#E5ECF6\",\"gridcolor\":\"white\",\"gridwidth\":2,\"linecolor\":\"white\",\"showbackground\":true,\"ticks\":\"\",\"zerolinecolor\":\"white\"}},\"shapedefaults\":{\"line\":{\"color\":\"#2a3f5f\"}},\"ternary\":{\"aaxis\":{\"gridcolor\":\"white\",\"linecolor\":\"white\",\"ticks\":\"\"},\"baxis\":{\"gridcolor\":\"white\",\"linecolor\":\"white\",\"ticks\":\"\"},\"bgcolor\":\"#E5ECF6\",\"caxis\":{\"gridcolor\":\"white\",\"linecolor\":\"white\",\"ticks\":\"\"}},\"title\":{\"x\":0.05},\"xaxis\":{\"automargin\":true,\"gridcolor\":\"white\",\"linecolor\":\"white\",\"ticks\":\"\",\"title\":{\"standoff\":15},\"zerolinecolor\":\"white\",\"zerolinewidth\":2},\"yaxis\":{\"automargin\":true,\"gridcolor\":\"white\",\"linecolor\":\"white\",\"ticks\":\"\",\"title\":{\"standoff\":15},\"zerolinecolor\":\"white\",\"zerolinewidth\":2}}}},                        {\"responsive\": true}                    ).then(function(){\n",
              "                            \n",
              "var gd = document.getElementById('3669beff-b052-4a44-a34f-75d13bcba0cd');\n",
              "var x = new MutationObserver(function (mutations, observer) {{\n",
              "        var display = window.getComputedStyle(gd).display;\n",
              "        if (!display || display === 'none') {{\n",
              "            console.log([gd, 'removed!']);\n",
              "            Plotly.purge(gd);\n",
              "            observer.disconnect();\n",
              "        }}\n",
              "}});\n",
              "\n",
              "// Listen for the removal of the full notebook cells\n",
              "var notebookContainer = gd.closest('#notebook-container');\n",
              "if (notebookContainer) {{\n",
              "    x.observe(notebookContainer, {childList: true});\n",
              "}}\n",
              "\n",
              "// Listen for the clearing of the current output cell\n",
              "var outputEl = gd.closest('.output');\n",
              "if (outputEl) {{\n",
              "    x.observe(outputEl, {childList: true});\n",
              "}}\n",
              "\n",
              "                        })                };                });            </script>        </div>"
            ]
          },
          "metadata": {}
        }
      ],
      "source": [
        "x=list(data.corr().columns)\n",
        "y=list(data.corr().index)\n",
        "values=np.array(data.corr().values)\n",
        "fig = go.Figure(data=go.Heatmap(\n",
        "    z=values,\n",
        "    x=x,\n",
        "    y=y,\n",
        "\n",
        "\n",
        "                   hoverongaps = False))\n",
        "fig.show()"
      ]
    },
    {
      "cell_type": "code",
      "execution_count": null,
      "metadata": {
        "id": "8EEv4cIHEaTI"
      },
      "outputs": [],
      "source": [
        "data=data.dropna(subset=['song_name'])"
      ]
    },
    {
      "cell_type": "code",
      "execution_count": null,
      "metadata": {
        "id": "H51vJB5xEaWj"
      },
      "outputs": [],
      "source": [
        "# Creating a new dataframe with required features\n",
        "df=data[data.columns[:11]]\n",
        "df['genre']=data['genre']\n",
        "df['time_signature']=data['time_signature']\n",
        "df['duration_ms']=data['duration_ms']\n",
        "df['song_name']=data['song_name']"
      ]
    },
    {
      "cell_type": "code",
      "execution_count": null,
      "metadata": {
        "id": "etm09rETEabx"
      },
      "outputs": [],
      "source": [
        "x=df[df.drop(columns=['song_name','genre']).columns].values\n",
        "scaler = StandardScaler().fit(x)\n",
        "X_scaled = scaler.transform(x)\n",
        "df[df.drop(columns=['song_name','genre']).columns]=X_scaled"
      ]
    },
    {
      "cell_type": "code",
      "execution_count": null,
      "metadata": {
        "id": "ggQms8SQEafQ"
      },
      "outputs": [],
      "source": [
        "# This is a function to find the closest song name from the list\n",
        "def find_word(word,words):\n",
        "    t=[]\n",
        "    count=0\n",
        "    if word[-1]==' ':\n",
        "        word=word[:-1]\n",
        "    for i in words:\n",
        "        if word.lower() in i.lower():\n",
        "            t.append([len(word)/len(i),count])\n",
        "        else:\n",
        "            t.append([0,count])\n",
        "        count+=1\n",
        "    t.sort(reverse=True)\n",
        "    return words[t[0][1]]"
      ]
    },
    {
      "cell_type": "code",
      "execution_count": null,
      "metadata": {
        "id": "51GPmoFcEaj3"
      },
      "outputs": [],
      "source": [
        "# Making a weight matrix using euclidean distance\n",
        "def make_matrix(data,song,number):\n",
        "    df=pd.DataFrame()\n",
        "    data.drop_duplicates(inplace=True)\n",
        "    songs=data['song_name'].values\n",
        "#    best = difflib.get_close_matches(song,songs,1)[0]\n",
        "    best=find_word(song,songs)\n",
        "    print('The song closest to your search is :',best)\n",
        "    genre=data[data['song_name']==best]['genre'].values[0]\n",
        "    df=data[data['genre']==genre]\n",
        "    x=df[df['song_name']==best].drop(columns=['genre','song_name']).values\n",
        "    if len(x)>1:\n",
        "        x=x[1]\n",
        "    song_names=df['song_name'].values\n",
        "    df.drop(columns=['genre','song_name'],inplace=True)\n",
        "    df=df.fillna(df.mean())\n",
        "    p=[]\n",
        "    count=0\n",
        "    for i in df.values:\n",
        "        p.append([distance.euclidean(x,i),count])\n",
        "        count+=1\n",
        "    p.sort()\n",
        "    for i in range(1,number):\n",
        "        print(song_names[p[i][1]])\n"
      ]
    },
    {
      "cell_type": "code",
      "execution_count": null,
      "metadata": {
        "id": "k8lu6HS2Eaod",
        "colab": {
          "base_uri": "https://localhost:8080/"
        },
        "outputId": "ed3f63e7-9469-4f51-b357-c9057404561d"
      },
      "outputs": [
        {
          "output_type": "stream",
          "name": "stdout",
          "text": [
            "Please enter The name of the song :jingle bells\n",
            "Please enter the number of recommendations you want: 20\n",
            "The song closest to your search is : Can't Hold On\n",
            "Outlawz\n",
            "Born Day\n",
            "Facade Records\n",
            "20 Joints\n",
            "Be Easy\n",
            "Nightcrawler (feat. Method Man)\n",
            "Unbelievable - 2005 Remaster\n",
            "Dicka Was\n",
            "Always On Time\n",
            "N 2 Gether Now\n",
            "No. 99\n",
            "The Let Out (feat. Nana Kwabena)\n",
            "21 Questions\n",
            "Wait a Minute!\n",
            "Stressed Out\n",
            "BLACK BALLOONS | 13LACK 13ALLOONZ [FEAT. TWELVE'LEN & GOLDLINK | TWELVE'LEN + GOLDL1NK]\n",
            "Crazy In Love (feat. Jay-Z)\n",
            "Work\n",
            "Break Ya Neck\n"
          ]
        }
      ],
      "source": [
        "a=input('Please enter The name of the song :')\n",
        "b=int(input('Please enter the number of recommendations you want: '))\n",
        "make_matrix(df,a,b)"
      ]
    }
  ],
  "metadata": {
    "colab": {
      "provenance": [],
      "authorship_tag": "ABX9TyMz8Lmv7C2LIgF3T6Dh9CJX",
      "include_colab_link": true
    },
    "kernelspec": {
      "display_name": "Python 3",
      "name": "python3"
    },
    "language_info": {
      "name": "python"
    }
  },
  "nbformat": 4,
  "nbformat_minor": 0
}